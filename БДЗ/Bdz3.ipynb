{
 "cells": [
  {
   "cell_type": "code",
   "execution_count": 1,
   "id": "c8fa2c46-30d7-4c1b-af8e-9ca5fb15dcdc",
   "metadata": {},
   "outputs": [],
   "source": [
    "import scipy.stats as sps\n",
    "from statsmodels.distributions.empirical_distribution import ECDF\n",
    "import matplotlib.pyplot as plt\n",
    "from array import array\n",
    "import numpy as np\n",
    "import pandas as pd\n",
    "plt.style.use('ggplot')    # стиль графиков\n",
    "\n",
    "%matplotlib inline"
   ]
  },
  {
   "cell_type": "code",
   "execution_count": 4,
   "id": "5d1d9700-531d-4162-a7f8-bc1565b98c25",
   "metadata": {},
   "outputs": [
    {
     "name": "stdout",
     "output_type": "stream",
     "text": [
      "252\n"
     ]
    }
   ],
   "source": [
    "X = pd.read_excel(open(r'C:\\Users\\Пользователь\\Downloads\\Telegram Desktop\\data_matstat_K5.xls', 'rb'), sheet_name='B - bodyfat')['B10'].to_numpy()\n",
    "print(len(X))"
   ]
  },
  {
   "cell_type": "code",
   "execution_count": 5,
   "id": "4129ec7b-5d57-47c5-b67f-cbf039325105",
   "metadata": {},
   "outputs": [
    {
     "data": {
      "text/plain": [
       "8.413731770541913"
      ]
     },
     "execution_count": 5,
     "metadata": {},
     "output_type": "execute_result"
    }
   ],
   "source": [
    "X.std()"
   ]
  },
  {
   "cell_type": "code",
   "execution_count": 9,
   "id": "0e8ccab0-5b39-4492-bf10-3db041704793",
   "metadata": {},
   "outputs": [
    {
     "name": "stdout",
     "output_type": "stream",
     "text": [
      "100.82420634920635\n",
      " T-test : The z-statistic is 58.042 and the p-value is 0.000.\n",
      " T-test : The z-statistic is 57.100 and the p-value is 0.000.\n",
      " T-test : The z-statistic is 56.159 and the p-value is 0.000.\n"
     ]
    }
   ],
   "source": [
    "m = [70, 70.5, 71]\n",
    "print(X.mean())\n",
    "for m0 in m:\n",
    "    print(\" T-test : The z-statistic is %.3f and the p-value is %.3f.\" % sps.ttest_1samp(X, m0))"
   ]
  },
  {
   "cell_type": "code",
   "execution_count": 14,
   "id": "ab05d346-4923-4a1c-ac3b-3e3f240f2bfe",
   "metadata": {},
   "outputs": [
    {
     "name": "stdout",
     "output_type": "stream",
     "text": [
      "8.413731770541913\n",
      " chi2-test : The z-statistic is 1371.027 and the p-value is 0.000.\n",
      " chi2-test : The z-statistic is 1537.068 and the p-value is 0.000.\n",
      " chi2-test : The z-statistic is 1110.532 and the p-value is 0.000.\n"
     ]
    }
   ],
   "source": [
    "n = len(X)\n",
    "sigma = [3.6, 3.4, 4]\n",
    "print(X.std())\n",
    "for sigma0 in sigma:\n",
    "    z = X.var() * (n-1) / sigma0**(2)\n",
    "    p_value = 2*min([sps.chi2.cdf(z, n - 1), 1 - sps.chi2.cdf(z, n - 1)]) \n",
    "    print(\" chi2-test : The z-statistic is %.3f and the p-value is %.3f.\" % (z,  p_value))"
   ]
  },
  {
   "cell_type": "code",
   "execution_count": 15,
   "id": "141df4dd-f9cc-4ddd-9caf-b4fefc047d86",
   "metadata": {},
   "outputs": [
    {
     "name": "stdout",
     "output_type": "stream",
     "text": [
      "252 252\n"
     ]
    }
   ],
   "source": [
    "#B10 B11\n",
    "X = pd.read_excel(open(r'C:\\Users\\Пользователь\\Downloads\\Telegram Desktop\\data_matstat_K5.xls', 'rb'), sheet_name='B - bodyfat')['B10'].to_numpy()\n",
    "Y = pd.read_excel(open(r'C:\\Users\\Пользователь\\Downloads\\Telegram Desktop\\data_matstat_K5.xls', 'rb'), sheet_name='B - bodyfat')['B11'].to_numpy()\n",
    "\n",
    "n1 = len(X)\n",
    "n2 = len(Y)\n",
    "print(n1, n2)"
   ]
  },
  {
   "cell_type": "code",
   "execution_count": 16,
   "id": "f94fe997-6dc2-4ea3-b0ae-21686c7a5acd",
   "metadata": {},
   "outputs": [
    {
     "name": "stdout",
     "output_type": "stream",
     "text": [
      "100.82420634920635 92.55595238095238\n",
      " 2-sample t-test : The z-statistic is 9.589 and the p-value is 0.000.\n"
     ]
    }
   ],
   "source": [
    "print(X.mean(), Y.mean())\n",
    "print(\" 2-sample t-test : The z-statistic is %.3f and the p-value is %.3f.\" % sps.ttest_ind(X, Y))"
   ]
  },
  {
   "cell_type": "code",
   "execution_count": 17,
   "id": "4503c26d-56bf-462c-a124-8500ae384303",
   "metadata": {},
   "outputs": [
    {
     "name": "stdout",
     "output_type": "stream",
     "text": [
      " 2-sample f-test \\ m : The z-statistic is 0.611 and the p-value is 0.000.\n"
     ]
    }
   ],
   "source": [
    "z = X.var() / Y.var()\n",
    "print(\" 2-sample f-test \\ m : The z-statistic is %.3f and the p-value is %.3f.\" % (z, 2*min([sps.f.cdf(z, n1 -1 , n2-1), 1 - sps.f.cdf(z, n1-1, n2-1)])))"
   ]
  },
  {
   "cell_type": "code",
   "execution_count": null,
   "id": "a018eeb3-6ff5-48a8-abfc-7e964e2f4e13",
   "metadata": {},
   "outputs": [],
   "source": []
  }
 ],
 "metadata": {
  "kernelspec": {
   "display_name": "Python 3 (ipykernel)",
   "language": "python",
   "name": "python3"
  },
  "language_info": {
   "codemirror_mode": {
    "name": "ipython",
    "version": 3
   },
   "file_extension": ".py",
   "mimetype": "text/x-python",
   "name": "python",
   "nbconvert_exporter": "python",
   "pygments_lexer": "ipython3",
   "version": "3.11.3"
  }
 },
 "nbformat": 4,
 "nbformat_minor": 5
}
