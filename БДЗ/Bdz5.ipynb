{
 "cells": [
  {
   "cell_type": "code",
   "execution_count": 1,
   "id": "7f4309bf-efb7-460d-ae15-17bd42ff32f8",
   "metadata": {},
   "outputs": [],
   "source": [
    "import scipy.stats as sps\n",
    "from statsmodels.distributions.empirical_distribution import ECDF\n",
    "import matplotlib.pyplot as plt\n",
    "from array import array\n",
    "import numpy as np\n",
    "import math\n",
    "import pandas as pd\n",
    "plt.style.use('ggplot')    # стиль графиков\n",
    "\n",
    "%matplotlib inline"
   ]
  },
  {
   "cell_type": "code",
   "execution_count": 2,
   "id": "2170b383-5ce2-4195-a09f-f271b724d40d",
   "metadata": {},
   "outputs": [
    {
     "name": "stdout",
     "output_type": "stream",
     "text": [
      "252 252\n"
     ]
    }
   ],
   "source": [
    "X = pd.read_excel(open(r'C:\\Users\\Пользователь\\Downloads\\Telegram Desktop\\data_matstat_K5.xls', 'rb'), sheet_name='B - bodyfat')['B10'].to_numpy()\n",
    "Y = pd.read_excel(open(r'C:\\Users\\Пользователь\\Downloads\\Telegram Desktop\\data_matstat_K5.xls', 'rb'), sheet_name='B - bodyfat')['B11'].to_numpy()\n",
    "n1 = len(X)\n",
    "n2 = len(Y)\n",
    "print(n1, n2)"
   ]
  },
  {
   "cell_type": "code",
   "execution_count": 3,
   "id": "6a49c71c-ab67-4929-a53a-bf80ff00f8ed",
   "metadata": {},
   "outputs": [
    {
     "name": "stdout",
     "output_type": "stream",
     "text": [
      "Sign test: z = 289.500, p-value = 0.000\n"
     ]
    }
   ],
   "source": [
    "ans = sps.wilcoxon(X, Y)\n",
    "print('Sign test: z = {z:.3f}, p-value = {p_value:.3f}'.format(z =ans[0] , p_value = ans[1]))"
   ]
  },
  {
   "cell_type": "code",
   "execution_count": 4,
   "id": "1bccacb7-1729-499b-a7e8-820c1354a105",
   "metadata": {},
   "outputs": [
    {
     "name": "stdout",
     "output_type": "stream",
     "text": [
      "Число групп по формуле Стерджесса : 8\n",
      "Ширина интервалов : 7.112499999999999\n"
     ]
    }
   ],
   "source": [
    "k = 1 + int(math.log(n1, 2))\n",
    "print(\"Число групп по формуле Стерджесса : {k}\".format(k = k))\n",
    "print(\"Ширина интервалов : {z}\".format(z = (max(X)-min(X))/k))"
   ]
  },
  {
   "cell_type": "code",
   "execution_count": 11,
   "id": "c52c587d-d25c-4813-9b58-3e8031fce8d5",
   "metadata": {},
   "outputs": [],
   "source": [
    "arr1 = np.array([30, 68, 80, 42, 19, 14])\n",
    "arr2 = np.array([12, 46, 67, 53, 47, 28])"
   ]
  },
  {
   "cell_type": "code",
   "execution_count": 12,
   "id": "c4bb3b19-2589-4458-8e82-9d419288891f",
   "metadata": {},
   "outputs": [
    {
     "name": "stdout",
     "output_type": "stream",
     "text": [
      "Сhi-squared test: z = 30.929, p-value = 0.000\n"
     ]
    }
   ],
   "source": [
    "ans = sps.chi2_contingency([arr1, arr2]) #вручную убрал частоты <= 5\n",
    "print('Сhi-squared test: z = {z:.3f}, p-value = {p_value:.3f}'.format(z =ans[0] , p_value = ans[1]))"
   ]
  },
  {
   "cell_type": "code",
   "execution_count": 7,
   "id": "089ca7c2-b570-4cf6-bb51-655b8664df1b",
   "metadata": {},
   "outputs": [],
   "source": [
    "Y = np.append(Y, X.min())"
   ]
  },
  {
   "cell_type": "code",
   "execution_count": 8,
   "id": "ada796d8-a6a3-4ded-a625-31b918201d9f",
   "metadata": {},
   "outputs": [],
   "source": [
    "X = np.append(X, Y.max())"
   ]
  },
  {
   "cell_type": "code",
   "execution_count": 9,
   "id": "18b7e7d8-b507-4e18-ba25-2f420a288c19",
   "metadata": {},
   "outputs": [
    {
     "name": "stdout",
     "output_type": "stream",
     "text": [
      "Число групп по формуле Стерджесса : 8\n",
      "Ширина интервалов : 8.6\n"
     ]
    }
   ],
   "source": [
    "n1 = len(X)\n",
    "k = 1 + int(math.log(n1, 2))\n",
    "print(\"Число групп по формуле Стерджесса : {k}\".format(k = k))\n",
    "print(\"Ширина интервалов : {z}\".format(z = (max(X)-min(X))/k))"
   ]
  },
  {
   "cell_type": "code",
   "execution_count": 10,
   "id": "c3924051-c3f0-475a-b629-a6e50d176bcb",
   "metadata": {},
   "outputs": [
    {
     "name": "stdout",
     "output_type": "stream",
     "text": [
      "[3, 27, 68, 80, 42, 19, 11, 1, 0, 1, 1]\n",
      "[12, 46, 67, 53, 47, 17, 8, 2, 0, 0, 1]\n",
      "[0.01, 0.11, 0.27, 0.32, 0.17, 0.08, 0.04, 0.0, 0.0, 0.0, 0.0]\n",
      "[0.05, 0.18, 0.27, 0.21, 0.19, 0.07, 0.03, 0.01, 0.0, 0.0, 0.0]\n",
      "[79, 85, 91, 98, 104, 110, 116, 123, 129, 135, 141, 148]\n",
      "[69, 76, 83, 90, 98, 105, 112, 119, 126, 133, 140, 148]\n"
     ]
    },
    {
     "data": {
      "image/png": "[encoded data removed]",
      "text/plain": [
       "<Figure size 640x480 with 1 Axes>"
      ]
     },
     "metadata": {},
     "output_type": "display_data"
    }
   ],
   "source": [
    "result = plt.hist(X,  bins=11, density=False, alpha=0.6, label='Гистограмма частот')\n",
    "frequencies_X = result[0]\n",
    "values_X = result[1]\n",
    "result = plt.hist(Y,  bins=11, density=False, alpha=0.6, label='Гистограмма частот')\n",
    "frequencies_Y = result[0]\n",
    "values_Y = result[1]\n",
    "relative_freq_X = []\n",
    "relative_freq_Y = []\n",
    "\n",
    "for i in range(len(frequencies_X)):\n",
    "    relative_freq_X.append(round(frequencies_X[i]/n1, 2))\n",
    "    relative_freq_Y.append(round(frequencies_Y[i]/n2, 2))\n",
    "print([int(item) for item in frequencies_X])\n",
    "print([int(item) for item in frequencies_Y])\n",
    "print(relative_freq_X)\n",
    "print(relative_freq_Y)\n",
    "#print(sum(relative_freq_X)) для проверки \n",
    "#print(sum(relative_freq_Y)) что сумма относительных частот 1 \n",
    "\n",
    "print([int(item) for item in values_X])\n",
    "print([int(item) for item in values_Y])"
   ]
  },
  {
   "cell_type": "code",
   "execution_count": null,
   "id": "acaf5d4b-0d44-4482-9749-96e1df27729e",
   "metadata": {},
   "outputs": [],
   "source": []
  }
 ],
 "metadata": {
  "kernelspec": {
   "display_name": "Python 3 (ipykernel)",
   "language": "python",
   "name": "python3"
  },
  "language_info": {
   "codemirror_mode": {
    "name": "ipython",
    "version": 3
   },
   "file_extension": ".py",
   "mimetype": "text/x-python",
   "name": "python",
   "nbconvert_exporter": "python",
   "pygments_lexer": "ipython3",
   "version": "3.11.3"
  }
 },
 "nbformat": 4,
 "nbformat_minor": 5
}
