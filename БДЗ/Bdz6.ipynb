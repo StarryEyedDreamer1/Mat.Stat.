{
 "cells": [
  {
   "cell_type": "code",
   "execution_count": 1,
   "id": "8c02e355-77b5-4af9-b26a-e055ea75e377",
   "metadata": {},
   "outputs": [],
   "source": [
    "import numpy as np         # библиотека для матриц и математики\n",
    "import pandas as pd        # библиотека для работы с табличками\n",
    "from scipy import stats    # модуль для работы со статистикой\n",
    "\n",
    "# библиотеки для визуализации\n",
    "import matplotlib.pyplot as plt\n",
    "import seaborn as sns\n",
    "\n",
    "import math\n",
    "\n",
    "from statsmodels.stats.weightstats import ztest as ztest\n",
    "\n",
    "plt.style.use('ggplot')    # стиль графиков\n",
    "\n",
    "%matplotlib inline\n",
    "#A4 A20"
   ]
  },
  {
   "cell_type": "code",
   "execution_count": 3,
   "id": "6c9e2b3f-3e1a-429e-8c58-8a74386952b0",
   "metadata": {},
   "outputs": [],
   "source": [
    "df = pd.read_excel(r\"C:\\Users\\Пользователь\\Downloads\\Telegram Desktop\\data_matstat_K5.xls\", sheet_name=\"B - bodyfat\")"
   ]
  },
  {
   "cell_type": "code",
   "execution_count": 4,
   "id": "dbd0a52d-66e7-4223-aea7-70bd853bdd8c",
   "metadata": {},
   "outputs": [
    {
     "data": {
      "text/html": [
       "<div>\n",
       "<style scoped>\n",
       "    .dataframe tbody tr th:only-of-type {\n",
       "        vertical-align: middle;\n",
       "    }\n",
       "\n",
       "    .dataframe tbody tr th {\n",
       "        vertical-align: top;\n",
       "    }\n",
       "\n",
       "    .dataframe thead th {\n",
       "        text-align: right;\n",
       "    }\n",
       "</style>\n",
       "<table border=\"1\" class=\"dataframe\">\n",
       "  <thead>\n",
       "    <tr style=\"text-align: right;\">\n",
       "      <th>B6</th>\n",
       "      <th>Arlington</th>\n",
       "      <th>Norwood</th>\n",
       "      <th>Revere</th>\n",
       "      <th>Somerville</th>\n",
       "    </tr>\n",
       "    <tr>\n",
       "      <th>B3</th>\n",
       "      <th></th>\n",
       "      <th></th>\n",
       "      <th></th>\n",
       "      <th></th>\n",
       "    </tr>\n",
       "  </thead>\n",
       "  <tbody>\n",
       "    <tr>\n",
       "      <th>high</th>\n",
       "      <td>39</td>\n",
       "      <td>20</td>\n",
       "      <td>39</td>\n",
       "      <td>22</td>\n",
       "    </tr>\n",
       "    <tr>\n",
       "      <th>low</th>\n",
       "      <td>8</td>\n",
       "      <td>4</td>\n",
       "      <td>11</td>\n",
       "      <td>16</td>\n",
       "    </tr>\n",
       "    <tr>\n",
       "      <th>normal</th>\n",
       "      <td>26</td>\n",
       "      <td>17</td>\n",
       "      <td>32</td>\n",
       "      <td>18</td>\n",
       "    </tr>\n",
       "  </tbody>\n",
       "</table>\n",
       "</div>"
      ],
      "text/plain": [
       "B6      Arlington  Norwood  Revere  Somerville\n",
       "B3                                            \n",
       "high           39       20      39          22\n",
       "low             8        4      11          16\n",
       "normal         26       17      32          18"
      ]
     },
     "execution_count": 4,
     "metadata": {},
     "output_type": "execute_result"
    }
   ],
   "source": [
    "#эмпирическая таблица\n",
    "confusion_mx = pd.crosstab(df.B3, df.B6)\n",
    "confusion_mx"
   ]
  },
  {
   "cell_type": "code",
   "execution_count": 5,
   "id": "ab2cea42-e0c9-4da3-a70b-ca27b4c3fe54",
   "metadata": {},
   "outputs": [
    {
     "name": "stdout",
     "output_type": "stream",
     "text": [
      "Tеоретическая таблица:\n"
     ]
    },
    {
     "data": {
      "text/plain": [
       "[[34.76190476190476,\n",
       "  19.523809523809526,\n",
       "  39.04761904761905,\n",
       "  26.666666666666668],\n",
       " [11.297619047619047, 6.345238095238095, 12.69047619047619, 8.666666666666666],\n",
       " [26.94047619047619,\n",
       "  15.130952380952381,\n",
       "  30.261904761904763,\n",
       "  20.666666666666668]]"
      ]
     },
     "execution_count": 5,
     "metadata": {},
     "output_type": "execute_result"
    }
   ],
   "source": [
    "#теоретическая таблица\n",
    "arr = confusion_mx.to_numpy()\n",
    "\n",
    "k = len(arr)\n",
    "l = len(arr[0])\n",
    "\n",
    "n = 0\n",
    "for i in range(0, len(arr)):\n",
    "  for j in range(0, len(arr[i])):\n",
    "    n += arr[i][j]\n",
    "\n",
    "m = []\n",
    "\n",
    "for i in range(0, len(arr)):\n",
    "  m_line = []\n",
    "  for j in range(0, len(arr[i])):\n",
    "    \n",
    "    x1 = 0\n",
    "    for i1 in range(0, len(arr[i])):\n",
    "      x1 += arr[i][i1]\n",
    "    x2 = 0\n",
    "    for i2 in range(0, len(arr)):\n",
    "      x2 += arr[i2][j]\n",
    "    \n",
    "    m_line.append((x1*x2)/n)\n",
    "  m.append(m_line)\n",
    "\n",
    "print(\"Tеоретическая таблица:\")\n",
    "m"
   ]
  },
  {
   "cell_type": "code",
   "execution_count": 6,
   "id": "7f39f450-82f8-4f13-b112-9387afadd901",
   "metadata": {},
   "outputs": [
    {
     "name": "stdout",
     "output_type": "stream",
     "text": [
      "Test: z = 10.312; p-value = 0.224\n",
      "12.591587243743977\n"
     ]
    }
   ],
   "source": [
    "#Проверить статистические гипотезы\n",
    "z = 0\n",
    "\n",
    "for i in range(0, len(arr)):\n",
    "  for j in range(0, len(arr[i])):\n",
    "    z += ((arr[i][j] - m[i][j])**2) / m[i][j]\n",
    "\n",
    "f_z_chi =  stats.chi2((k-1)*(l-1)).cdf(z)\n",
    "p_value = 2 * min(f_z_chi, 1 - f_z_chi)\n",
    "\n",
    "critical_point = stats.chi2((k-1)*(l-1)).ppf(0.95)\n",
    "\n",
    "print(\"Test: z = %.3f; p-value = %.3f\" % (z, p_value))\n",
    "print(critical_point)"
   ]
  },
  {
   "cell_type": "code",
   "execution_count": null,
   "id": "a62df907-e6a9-4860-842d-6c41feaba1f1",
   "metadata": {},
   "outputs": [],
   "source": []
  }
 ],
 "metadata": {
  "kernelspec": {
   "display_name": "Python 3 (ipykernel)",
   "language": "python",
   "name": "python3"
  },
  "language_info": {
   "codemirror_mode": {
    "name": "ipython",
    "version": 3
   },
   "file_extension": ".py",
   "mimetype": "text/x-python",
   "name": "python",
   "nbconvert_exporter": "python",
   "pygments_lexer": "ipython3",
   "version": "3.11.3"
  }
 },
 "nbformat": 4,
 "nbformat_minor": 5
}
