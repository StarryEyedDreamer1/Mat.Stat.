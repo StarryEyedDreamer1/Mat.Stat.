{
 "cells": [
  {
   "cell_type": "code",
   "execution_count": 7,
   "id": "a8ee3bfd-ec49-4f47-afa7-f3222f9692f6",
   "metadata": {},
   "outputs": [],
   "source": [
    "import scipy.stats as sps\n",
    "from statsmodels.distributions.empirical_distribution import ECDF\n",
    "import matplotlib.pyplot as plt\n",
    "from array import array\n",
    "import numpy as np\n",
    "import math\n",
    "import pandas as pd\n",
    "import statistics\n",
    "plt.style.use('ggplot')    # стиль графиков\n",
    "\n",
    "%matplotlib inline"
   ]
  },
  {
   "cell_type": "code",
   "execution_count": 8,
   "id": "7ce77463-da51-4e85-b2b6-f7d1be9e2a95",
   "metadata": {},
   "outputs": [
    {
     "name": "stdout",
     "output_type": "stream",
     "text": [
      "Объем выборки: 252\n"
     ]
    }
   ],
   "source": [
    "X = pd.read_excel(open(r'C:\\Users\\Пользователь\\Downloads\\Telegram Desktop\\data_matstat_K5.xls', 'rb'), sheet_name='B - bodyfat')['B6'].to_numpy()\n",
    "Y = pd.read_excel(open(r'C:\\Users\\Пользователь\\Downloads\\Telegram Desktop\\data_matstat_K5.xls', 'rb'), sheet_name='B - bodyfat')['B2'].to_numpy()\n",
    "print(\"Объем выборки: {z}\".format(z = len(X)))"
   ]
  },
  {
   "cell_type": "code",
   "execution_count": 9,
   "id": "a5f3c106-d353-47cb-8da1-f250f4654fca",
   "metadata": {},
   "outputs": [],
   "source": [
    "dict = {'Arlington': [], 'Norwood': [], 'Revere': [], 'Somerville':[]}\n",
    "for i in range(len(X)):\n",
    "    if X[i] == 'Arlington':\n",
    "        dict[\"Arlington\"].append(Y[i])\n",
    "    elif X[i] == 'Norwood':\n",
    "        dict[\"Norwood\"].append(Y[i])\n",
    "    elif X[i] == 'Revere':\n",
    "        dict[\"Revere\"].append(Y[i])\n",
    "    elif X[i] == 'Somerville':\n",
    "        dict[\"Somerville\"].append(Y[i])"
   ]
  },
  {
   "cell_type": "code",
   "execution_count": 10,
   "id": "40f32b30-a169-489b-ab9a-32852391ab6f",
   "metadata": {},
   "outputs": [
    {
     "name": "stdout",
     "output_type": "stream",
     "text": [
      "Arlington - объем выборки: 73\n",
      "Arlington - среднее: 20.056\n",
      "Arlington - дисперсия: 42.375\n",
      "Norwood - объем выборки: 41\n",
      "Norwood - среднее: 19.322\n",
      "Norwood - дисперсия: 46.422\n",
      "Revere - объем выборки: 82\n",
      "Revere - среднее: 19.732\n",
      "Revere - дисперсия: 86.221\n",
      "Somerville - объем выборки: 56\n",
      "Somerville - среднее: 16.995\n",
      "Somerville - дисперсия: 97.058\n"
     ]
    }
   ],
   "source": [
    "for key in dict:\n",
    "    print(\"{f} - объем выборки: {z}\".format(f = key, z = len(dict[key])))\n",
    "    print(\"{f} - среднее: {z:.3f}\".format(f = key, z=statistics.mean(dict[key])))\n",
    "    print(\"{f} - дисперсия: {z:.3f}\".format(f = key, z=statistics.variance(dict[key])))"
   ]
  },
  {
   "cell_type": "code",
   "execution_count": 12,
   "id": "94dc9ec6-7e8d-4f2a-ba7d-d797463fb60e",
   "metadata": {},
   "outputs": [],
   "source": [
    "groups = []\n",
    "for key in dict:\n",
    "    dict[key] = np.array(dict[key])\n",
    "    groups.append(dict[key])"
   ]
  },
  {
   "cell_type": "code",
   "execution_count": 13,
   "id": "7db94f01-f81e-47b3-80f7-38354bd91676",
   "metadata": {},
   "outputs": [
    {
     "name": "stdout",
     "output_type": "stream",
     "text": [
      "19.150793650793652\n",
      "D_b = 1.385\n",
      "D_w = 68.373\n",
      "D_x = 69.758\n",
      "Число степеней свободы: 2\n",
      "Несмещенная оценка групировочного признака: 174.527\n",
      "Число степеней свободы: 249\n",
      "Несмещенная оценка остаточного признака: 69.197\n",
      "Число степеней свободы: 251\n",
      "Несмещенная оценка всех признаков: 70.036\n"
     ]
    }
   ],
   "source": [
    "K = 3\n",
    "n = len(X)\n",
    "\n",
    "general_mean = (groups[0].mean() * len(groups[0]) + groups[1].mean() * len(groups[1]) + groups[2].mean() * len(groups[2]) + groups[3].mean() * len(groups[3]))/ n \n",
    "\n",
    "samples = [groups[0], groups[1], groups[2], groups[3]]\n",
    "print(general_mean)\n",
    "general_var = 0\n",
    "\n",
    "for sample in samples:\n",
    "    for x in sample:\n",
    "        general_var += (x - general_mean)**2\n",
    "D_x = general_var / n\n",
    "\n",
    "general_var = 0\n",
    "for sample in samples:\n",
    "        general_var += len(sample) * sample.var()\n",
    "D_w = general_var / n\n",
    "\n",
    "general_var = 0\n",
    "for sample in samples:\n",
    "        general_var += len(sample)*(sample.mean() - general_mean)**2\n",
    "D_b = general_var / n\n",
    "\n",
    "print(\"D_b = %.3f\" % D_b)\n",
    "print(\"D_w = %.3f\" % D_w)\n",
    "print(\"D_x = %.3f\" % D_x)\n",
    "\n",
    "print('Число степеней свободы: {dof}'.format(dof = K-1))\n",
    "print('Несмещенная оценка групировочного признака: {z:.3f}'.format(z = (D_b * n)/(K - 1)))\n",
    "print('Число степеней свободы: {dof}'.format(dof = n-K))\n",
    "print('Несмещенная оценка остаточного признака: {z:.3f}'.format(z = (D_w * n)/(n - K)))\n",
    "print('Число степеней свободы: {dof}'.format(dof = n-1))\n",
    "print('Несмещенная оценка всех признаков: {z:.3f}'.format(z = (D_x * n)/(n - 1)))"
   ]
  },
  {
   "cell_type": "code",
   "execution_count": 14,
   "id": "a328058b-cdef-4f28-b9e4-346a33f93e8c",
   "metadata": {},
   "outputs": [
    {
     "name": "stdout",
     "output_type": "stream",
     "text": [
      "Эмпирический коэффициент детерминации: 0.020\n",
      "Эмпирическое корреляционное отношение: 0.141\n"
     ]
    }
   ],
   "source": [
    "eta_squared = D_b / D_x   \n",
    "eta = eta_squared ** (1/2)\n",
    "print(\"Эмпирический коэффициент детерминации: %.3f\" % eta_squared)\n",
    "print(\"Эмпирическое корреляционное отношение: %.3f\" % eta)"
   ]
  },
  {
   "cell_type": "code",
   "execution_count": 15,
   "id": "a13f9e74-91eb-47e6-bc37-141da2ef9519",
   "metadata": {},
   "outputs": [
    {
     "data": {
      "text/plain": [
       "F_onewayResult(statistic=1.674708714817145, pvalue=0.17297936412285564)"
      ]
     },
     "execution_count": 15,
     "metadata": {},
     "output_type": "execute_result"
    }
   ],
   "source": [
    "sps.f_oneway(groups[0], groups[1], groups[2], groups[3])"
   ]
  },
  {
   "cell_type": "code",
   "execution_count": null,
   "id": "3ee1e140-1466-4305-8e4c-f71db1bd7734",
   "metadata": {},
   "outputs": [],
   "source": []
  }
 ],
 "metadata": {
  "kernelspec": {
   "display_name": "Python 3 (ipykernel)",
   "language": "python",
   "name": "python3"
  },
  "language_info": {
   "codemirror_mode": {
    "name": "ipython",
    "version": 3
   },
   "file_extension": ".py",
   "mimetype": "text/x-python",
   "name": "python",
   "nbconvert_exporter": "python",
   "pygments_lexer": "ipython3",
   "version": "3.11.3"
  }
 },
 "nbformat": 4,
 "nbformat_minor": 5
}
