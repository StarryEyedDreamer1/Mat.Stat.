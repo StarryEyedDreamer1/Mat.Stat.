{
 "cells": [
  {
   "cell_type": "code",
   "execution_count": 1,
   "id": "7fb6bde7-9cb6-4a17-8a53-aa5c564fa5ae",
   "metadata": {},
   "outputs": [],
   "source": [
    "import numpy as np         # библиотека для матриц и математики\n",
    "import pandas as pd        # библиотека для работы с табличками\n",
    "from scipy import stats    # модуль для работы со статистикой\n",
    "\n",
    "# библиотеки для визуализации\n",
    "import matplotlib.pyplot as plt\n",
    "import seaborn as sns\n",
    "\n",
    "import math\n",
    "\n",
    "from statsmodels.stats.weightstats import ztest as ztest\n",
    "\n",
    "plt.style.use('ggplot')    # стиль графиков\n",
    "\n",
    "%matplotlib inline\n"
   ]
  },
  {
   "cell_type": "code",
   "execution_count": 2,
   "id": "ae3e14c5-091a-461d-8a1f-f459aa95dd66",
   "metadata": {},
   "outputs": [],
   "source": [
    "df = pd.read_excel(r\"C:\\Users\\Пользователь\\Downloads\\Telegram Desktop\\data_matstat_K5.xls\", sheet_name=\"B - bodyfat\")"
   ]
  },
  {
   "cell_type": "code",
   "execution_count": 17,
   "id": "ad9530c6-d0bb-4961-aeaf-c4d9ec53cbb0",
   "metadata": {},
   "outputs": [
    {
     "name": "stdout",
     "output_type": "stream",
     "text": [
      "0.8950998638613753\n",
      "0.9298947806201897\n"
     ]
    }
   ],
   "source": [
    "std1 = df['B10'].std()\n",
    "std2 = df['B11'].std()\n",
    "mean1 = df.B10.mean()\n",
    "mean2 = df.B11.mean()\n",
    "n = df.B11.shape[0]\n",
    "\n",
    "sample1 = df['B10'].to_numpy()\n",
    "sample2 = df['B11'].to_numpy()\n",
    "\n",
    "s = 0\n",
    "for i in range(0, n):\n",
    "  s += (sample1[i] - mean1) * (sample2[i] - mean2)\n",
    "k = s / n\n",
    "\n",
    "r = k / (std1 * std2)\n",
    "\n",
    "alpha = 0.1\n",
    "\n",
    "quantile = stats.norm(loc = 0, scale = 1).ppf(1 - (alpha/2))\n",
    "\n",
    "a = r + (r*(1-r**2)/(2*n)) - ((1-r**2)/n**(1/2)) * quantile\n",
    "b = r + (r*(1-r**2)/(2*n)) + ((1-r**2)/n**(1/2)) * quantile\n",
    "\n",
    "print(a)\n",
    "print(b)\n"
   ]
  },
  {
   "cell_type": "code",
   "execution_count": 5,
   "id": "54a78b39-969a-4fbe-b996-822f4c820d86",
   "metadata": {},
   "outputs": [
    {
     "data": {
      "text/plain": [
       "252"
      ]
     },
     "execution_count": 5,
     "metadata": {},
     "output_type": "execute_result"
    }
   ],
   "source": [
    "n"
   ]
  },
  {
   "cell_type": "code",
   "execution_count": 14,
   "id": "fa298374-589d-4d90-a90d-0006b674bb4c",
   "metadata": {},
   "outputs": [
    {
     "name": "stdout",
     "output_type": "stream",
     "text": [
      "test1: z = 35.199; p-value = 0.000\n"
     ]
    }
   ],
   "source": [
    "std1 = df['B10'].std()\n",
    "std2 = df['B11'].std()\n",
    "mean1 = df.B10.mean()\n",
    "mean2 = df.B11.mean()\n",
    "n = df.B11.shape[0]\n",
    "\n",
    "sample1 = df['B10'].to_numpy()\n",
    "sample2 = df['B11'].to_numpy()\n",
    "\n",
    "s = 0\n",
    "for i in range(0, n):\n",
    "  s += (sample1[i] - mean1) * (sample2[i] - mean2)\n",
    "k = s / n\n",
    "\n",
    "r = k / (std1 * std2)\n",
    "\n",
    "alpha = 0.01\n",
    "\n",
    "z = (r / (1 - r**2)**(1/2)) * (n-2)**(1/2)\n",
    "f_z = stats.t(n-2).cdf(z)\n",
    "p_value = 2 * min(f_z, 1 - f_z)\n",
    "\n",
    "print(\"test1: z = %.3f; p-value = %.3f\" % (z, p_value))"
   ]
  },
  {
   "cell_type": "code",
   "execution_count": 7,
   "id": "f7293b3f-e73c-46c1-8d54-90b561cb36a0",
   "metadata": {},
   "outputs": [
    {
     "name": "stdout",
     "output_type": "stream",
     "text": [
      "test2: z = 31.771; p-value = 0.000\n"
     ]
    }
   ],
   "source": [
    "s1 = pd.Series(sample1)\n",
    "s2 = pd.Series(sample2)\n",
    "\n",
    "\n",
    "sp = 0\n",
    "for i in range(0, n):\n",
    "  sp += (s1.rank()[i] - s2.rank()[i])**2\n",
    "sp = 1 - (6 / (n * (n**2 - 1))) * sp\n",
    "\n",
    "z = (sp / (1 - sp**2)**(1/2)) * (n-2)**(1/2)\n",
    "\n",
    "f_z = stats.t(n-2).cdf(z)\n",
    "p_value = 2 * min(f_z, 1 - f_z)\n",
    "\n",
    "print(\"test2: z = %.3f; p-value = %.3f\" % (z, p_value))"
   ]
  },
  {
   "cell_type": "code",
   "execution_count": 8,
   "id": "3b3d88b1-4321-4048-b8ad-2369345ca7ee",
   "metadata": {},
   "outputs": [
    {
     "name": "stdout",
     "output_type": "stream",
     "text": [
      "test3: z = 17.196; p-value = 0.000\n"
     ]
    }
   ],
   "source": [
    "ken = stats.kendalltau(sample1, sample2)\n",
    "\n",
    "z = ken[0] * ((9*n*(n+1))/(2*(2*n+5)))**(1/2)\n",
    "f_z = stats.norm(loc = 1, scale = 1).cdf(z)\n",
    "p_value = 2 * min(f_z, 1 - f_z)\n",
    "\n",
    "print(\"test3: z = %.3f; p-value = %.3f\" % (z, p_value))"
   ]
  },
  {
   "cell_type": "code",
   "execution_count": 9,
   "id": "f4e89891-babb-4255-b95f-2e1541f75acc",
   "metadata": {},
   "outputs": [
    {
     "name": "stdout",
     "output_type": "stream",
     "text": [
      "PearsonRResult(statistic=0.9158276698546782, pvalue=4.7986071277865885e-101)\n",
      "SignificanceResult(statistic=0.8952563412689127, pvalue=9.432456663616326e-90)\n",
      "SignificanceResult(statistic=0.7243113600801906, pvalue=2.2625919542765998e-65)\n"
     ]
    },
    {
     "data": {
      "text/plain": [
       "numpy.float64"
      ]
     },
     "execution_count": 9,
     "metadata": {},
     "output_type": "execute_result"
    }
   ],
   "source": [
    "#KK\n",
    "\n",
    "r = stats.pearsonr(sample1, sample2)\n",
    "p = stats.spearmanr(sample1, sample2)   #спирмен\n",
    "t = stats.kendalltau(sample1, sample2)  #кендалл\n",
    "print(r)\n",
    "print(p)\n",
    "print(t)\n",
    "type(t[0])"
   ]
  },
  {
   "cell_type": "code",
   "execution_count": 11,
   "id": "7dbbc1b6-60cb-4c2e-bf8d-6c0e551b4f66",
   "metadata": {},
   "outputs": [],
   "source": [
    "\n",
    "\n",
    "sample1 = df['B10'].to_numpy()\n",
    "sample2 = df['B11'].to_numpy()\n",
    "sample3 = df['B12'].to_numpy()\n",
    "\n",
    "n1 = len(sample1)\n",
    "n2 = len(sample2)\n",
    "n3 = len(sample3)"
   ]
  },
  {
   "cell_type": "code",
   "execution_count": 20,
   "id": "282a6971-ab97-4ba9-8ca7-9f822d226c14",
   "metadata": {},
   "outputs": [
    {
     "data": {
      "text/plain": [
       "[['Null', 2.2625919542765998e-65, 6.3554737796748166e-49],\n",
       " [2.2625919542765998e-65, 'Null', 8.526790929548107e-55],\n",
       " [6.3554737796748166e-49, 8.526790929548107e-55, 'Null']]"
      ]
     },
     "execution_count": 20,
     "metadata": {},
     "output_type": "execute_result"
    }
   ],
   "source": [
    "# матрица ранговых коэффициентов корреляции по Кендаллу\n",
    "# матрица значений p-value для ранговых коэффициентов корреляции по Кендаллу\n",
    "\n",
    "sample = [sample1, sample2, sample3]\n",
    "arr_kendall = []\n",
    "arr_kendall_pvalue = []\n",
    "\n",
    "for i in range(0,3):\n",
    "  row = []\n",
    "  row_p = []\n",
    "  for j in range(0,3):\n",
    "    if i != j:\n",
    "      t = stats.kendalltau(sample[i], sample[j])\n",
    "      row.append(t[0])\n",
    "      row_p.append(t[1])\n",
    "    else:\n",
    "      t = stats.kendalltau(sample[i], sample[j])\n",
    "      row.append(t[0])\n",
    "      row_p.append('Null')\n",
    "  arr_kendall.append(row)\n",
    "  arr_kendall_pvalue.append(row_p)\n",
    "\n",
    "arr_kendall_pvalue"
   ]
  },
  {
   "cell_type": "code",
   "execution_count": 21,
   "id": "6978f837-9f5c-4f1d-b641-a0d794216e1e",
   "metadata": {},
   "outputs": [
    {
     "name": "stdout",
     "output_type": "stream",
     "text": [
      "Коэффициент конкордации: 0.900\n",
      "test: z = 678.045; p-value = 0.000\n"
     ]
    }
   ],
   "source": [
    "#точечная оценка коэффициента конкордации\n",
    "\n",
    "s1 = pd.Series(sample1)\n",
    "s2 = pd.Series(sample2)\n",
    "s3 = pd.Series(sample3)\n",
    "\n",
    "r1 = s1.rank()\n",
    "r2 = s2.rank()\n",
    "r3 = s3.rank()\n",
    "\n",
    "r = [r1, r2, r3]\n",
    "\n",
    "n = n1\n",
    "k = 3       #число выборок\n",
    "\n",
    "w = 0\n",
    "for i in range(0, n):\n",
    "  s1 = 0\n",
    "  for j in range(0, k):\n",
    "    s1 += (1/k) * r[j][i]\n",
    "  w += (s1 - (n+1)/2)**2\n",
    "\n",
    "w = (w * 12) / (n**3 - n)\n",
    "\n",
    "print('Коэффициент конкордации: %.3f' % w)\n",
    "\n",
    "#статистика критерия\n",
    "\n",
    "z = k * (n - 1) * w\n",
    "f_z = stats.chi2(n-1).cdf(z)\n",
    "p_value = 2 * min(f_z, 1 - f_z)\n",
    "\n",
    "print(\"test: z = %.3f; p-value = %.3f\" % (z, p_value))"
   ]
  },
  {
   "cell_type": "code",
   "execution_count": null,
   "id": "cc48e8ed-efed-4458-8db2-b42be4c713f8",
   "metadata": {},
   "outputs": [],
   "source": []
  }
 ],
 "metadata": {
  "kernelspec": {
   "display_name": "Python 3 (ipykernel)",
   "language": "python",
   "name": "python3"
  },
  "language_info": {
   "codemirror_mode": {
    "name": "ipython",
    "version": 3
   },
   "file_extension": ".py",
   "mimetype": "text/x-python",
   "name": "python",
   "nbconvert_exporter": "python",
   "pygments_lexer": "ipython3",
   "version": "3.11.3"
  }
 },
 "nbformat": 4,
 "nbformat_minor": 5
}
