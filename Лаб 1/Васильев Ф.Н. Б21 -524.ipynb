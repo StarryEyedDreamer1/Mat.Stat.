{
 "cells": [
  {
   "cell_type": "code",
   "execution_count": 7,
   "id": "478e4054",
   "metadata": {},
   "outputs": [
    {
     "ename": "ModuleNotFoundError",
     "evalue": "No module named 'statsmodels'",
     "output_type": "error",
     "traceback": [
      "\u001b[0;31m---------------------------------------------------------------------------\u001b[0m",
      "\u001b[0;31mModuleNotFoundError\u001b[0m                       Traceback (most recent call last)",
      "\u001b[0;32m/tmp/ipykernel_3717085/3617041572.py\u001b[0m in \u001b[0;36m<module>\u001b[0;34m\u001b[0m\n\u001b[1;32m      9\u001b[0m \u001b[0;32mimport\u001b[0m \u001b[0mmath\u001b[0m\u001b[0;34m\u001b[0m\u001b[0;34m\u001b[0m\u001b[0m\n\u001b[1;32m     10\u001b[0m \u001b[0;34m\u001b[0m\u001b[0m\n\u001b[0;32m---> 11\u001b[0;31m \u001b[0;32mfrom\u001b[0m \u001b[0mstatsmodels\u001b[0m\u001b[0;34m.\u001b[0m\u001b[0mstats\u001b[0m\u001b[0;34m.\u001b[0m\u001b[0mweightstats\u001b[0m \u001b[0;32mimport\u001b[0m \u001b[0mztest\u001b[0m \u001b[0;32mas\u001b[0m \u001b[0mztest\u001b[0m\u001b[0;34m\u001b[0m\u001b[0;34m\u001b[0m\u001b[0m\n\u001b[0m\u001b[1;32m     12\u001b[0m \u001b[0;34m\u001b[0m\u001b[0m\n\u001b[1;32m     13\u001b[0m \u001b[0mplt\u001b[0m\u001b[0;34m.\u001b[0m\u001b[0mstyle\u001b[0m\u001b[0;34m.\u001b[0m\u001b[0muse\u001b[0m\u001b[0;34m(\u001b[0m\u001b[0;34m'ggplot'\u001b[0m\u001b[0;34m)\u001b[0m    \u001b[0;31m# стиль графиков\u001b[0m\u001b[0;34m\u001b[0m\u001b[0;34m\u001b[0m\u001b[0m\n",
      "\u001b[0;31mModuleNotFoundError\u001b[0m: No module named 'statsmodels'"
     ]
    }
   ],
   "source": [
    "import numpy as np         \n",
    "import pandas as pd        \n",
    "from scipy import stats    \n",
    "\n",
    "\n",
    "import matplotlib.pyplot as plt\n",
    "import seaborn as sns\n",
    "\n",
    "import math\n",
    "\n",
    "from statsmodels.stats.weightstats import ztest as ztest\n",
    "\n",
    "plt.style.use('ggplot')    "
   ]
  },
  {
   "cell_type": "code",
   "execution_count": 8,
   "id": "6631a8ae",
   "metadata": {},
   "outputs": [],
   "source": [
    "%matplotlib inline"
   ]
  },
  {
   "cell_type": "code",
   "execution_count": 9,
   "id": "98903890",
   "metadata": {},
   "outputs": [
    {
     "name": "stdout",
     "output_type": "stream",
     "text": [
      "X1: mean1 = 2.111; s1 = 3.590; std1 = 1.895; n1 = 150.000\n"
     ]
    }
   ],
   "source": [
    "#for X1\n",
    "\n",
    "sample1 = stats.chi2(2).rvs(150)\n",
    "\n",
    "mean1 = np.mean(sample1)\n",
    "s1 = np.var(sample1)\n",
    "std1 = np.std(sample1)\n",
    "n1 = 150\n",
    "\n",
    "print(\"X1: mean1 = %.3f; s1 = %.3f; std1 = %.3f; n1 = %.3f\" % (mean1, s1, std1, n1))"
   ]
  },
  {
   "cell_type": "code",
   "execution_count": 10,
   "id": "93dc503b",
   "metadata": {},
   "outputs": [
    {
     "name": "stdout",
     "output_type": "stream",
     "text": [
      "Ttest_1sampResult(statistic=1.3564925155874972, pvalue=0.17699432031910295)\n",
      "Z-test 1_smple: z = 0.065; p-value = 0.948\n",
      "chi-squared test (m is known): z = 122.518; p-value = 0.098\n",
      "chi-squared test (m is not known): z = 133.720; p-value = 0.380\n"
     ]
    }
   ],
   "source": [
    "m0 = 1.9\n",
    "ttest_1 = stats.ttest_1samp(sample1, m0) #t-test 1 sample\n",
    "\n",
    "print(ttest_1)\n",
    "\n",
    "m0 = 2.1 #z-test 1 sample\n",
    "sd = 2\n",
    "z = (mean1 - m0) * n1**(1/2) / sd\n",
    "f_z = stats.norm(loc=0, scale=1).cdf(z)\n",
    "p_value = 2 * min(f_z, 1 - f_z)\n",
    "\n",
    "print(\"Z-test 1_smple: z = %.3f; p-value = %.3f\" % (z, p_value))\n",
    "\n",
    "#chi-squared test, m is known\n",
    "std_0 = 2.1\n",
    "\n",
    "m = 2  \n",
    "sum = 0\n",
    "for x in sample1:\n",
    "  sum += (x - m)**2\n",
    "s_0 = sum / n1\n",
    "\n",
    "\n",
    "z = (n1 * s_0) / (std_0 ** 2)\n",
    "f_z_chi =  stats.chi2(n1).cdf(z)\n",
    "p_value = 2 * min(f_z_chi, 1 - f_z_chi)\n",
    "\n",
    "print(\"chi-squared test (m is known): z = %.3f; p-value = %.3f\" % (z, p_value))\n",
    "\n",
    "#chi-squared test, m is not known\n",
    "std_0 = 2\n",
    "\n",
    "z = ((n1 - 1) * s1) / (std_0 ** 2)\n",
    "f_z_chi =  stats.chi2.cdf(z, n1 - 1)\n",
    "p_value = 2 * min(f_z_chi, 1 - f_z_chi)\n",
    "\n",
    "print(\"chi-squared test (m is not known): z = %.3f; p-value = %.3f\" % (z, p_value))"
   ]
  },
  {
   "cell_type": "code",
   "execution_count": 11,
   "id": "3c31e075",
   "metadata": {},
   "outputs": [
    {
     "name": "stdout",
     "output_type": "stream",
     "text": [
      "X2: mean2 = 2.980; s2 = 0.861; std2 = 0.928; n2 = 150.000\n"
     ]
    }
   ],
   "source": [
    "sample2 = stats.norm(loc=3, scale=1).rvs(150)\n",
    "\n",
    "mean2 = np.mean(sample2)\n",
    "s2 = np.var(sample2)\n",
    "std2 = np.std(sample2)\n",
    "n2 = 150\n",
    "\n",
    "print(\"X2: mean2 = %.3f; s2 = %.3f; std2 = %.3f; n2 = %.3f\" % (mean2, s2, std2, n2))"
   ]
  },
  {
   "cell_type": "code",
   "execution_count": 12,
   "id": "36276cbe",
   "metadata": {},
   "outputs": [
    {
     "name": "stdout",
     "output_type": "stream",
     "text": [
      "Pooled for X1 and X2: mean_pol = 2.545; d_pol = 2.226; std_pol = 1.113; n_pol = 300.000\n"
     ]
    }
   ],
   "source": [
    "\n",
    "mean_pol = (n1 * mean1 + n2 * mean2)/(n1 + n2) \n",
    "d_pol = ((n1 - 1) * s1 + (n2 - 1) * s2) / (n1 + n2 - 2)\n",
    "std_pol = d_pol**1/2\n",
    "n_pol = n1 + n2\n",
    "print(\"Pooled for X1 and X2: mean_pol = %.3f; d_pol = %.3f; std_pol = %.3f; n_pol = %.3f\" % (mean_pol, d_pol, std_pol, n_pol))"
   ]
  },
  {
   "cell_type": "code",
   "execution_count": 13,
   "id": "05eb31ae",
   "metadata": {},
   "outputs": [
    {
     "name": "stdout",
     "output_type": "stream",
     "text": [
      "Ttest_indResult(statistic=-5.03019408350419, pvalue=8.481039037923329e-07)\n",
      "two-sample f-test (m is known): z = 4.180; p-value = 0.000\n",
      "two-sample f-test (m is not known): z = 4.168; p-value = 0.000\n"
     ]
    }
   ],
   "source": [
    "ttest_2_sample = stats.ttest_ind(sample1, sample2) #two-sample unpooled t-test\n",
    "print(ttest_2_sample)\n",
    "\n",
    "#two-sample f-test (m изв)\n",
    "m1 = 2\n",
    "m2 = 3\n",
    "\n",
    "d_01 = s_0\n",
    "\n",
    "sum = 0\n",
    "for x in sample2:\n",
    "  sum += (x - m2)**2\n",
    "d_02 = sum / n2\n",
    "\n",
    "z = d_01 / d_02\n",
    "f_z_f =  stats.f(n1, n2).cdf(z)\n",
    "p_value = 2 * min(f_z_f, 1 - f_z_f)\n",
    "print(\"two-sample f-test (m is known): z = %.3f; p-value = %.3f\" % (z, p_value))\n",
    "\n",
    "#two-sample f-test (m неизв)\n",
    "\n",
    "z = s1 / s2\n",
    "f_z_f =  stats.f(n1-1, n2-1).cdf(z)\n",
    "p_value = 2 * min(f_z_f, 1 - f_z_f)\n",
    "print(\"two-sample f-test (m is not known): z = %.3f; p-value = %.3f\" % (z, p_value))"
   ]
  },
  {
   "cell_type": "code",
   "execution_count": 14,
   "id": "d5a0a67e",
   "metadata": {},
   "outputs": [
    {
     "name": "stdout",
     "output_type": "stream",
     "text": [
      "mean_z = 0.050; d_z = 1.050; std_z = 1.025\n",
      "mean_p = 0.489; d_p = 0.083; std_p = 0.289\n"
     ]
    }
   ],
   "source": [
    "m0 = 2 #z-test 1 sample\n",
    "sd = 2\n",
    "z = (mean1 - m0) * n1**(1/2) / sd\n",
    "f_z = stats.norm(loc=0, scale=1).cdf(z)\n",
    "p_value = 2 * min(f_z, 1 - f_z)\n",
    "\n",
    "n = 1000\n",
    "arr = list()\n",
    "z = list()\n",
    "p = list()\n",
    "for i in range(n):\n",
    "  arr.append(stats.chi2(2).rvs(n1))\n",
    "  z.append((arr[i].mean() - m0) * n1**(1/2) / sd)\n",
    "  f_z = stats.norm(loc=0, scale=1).cdf(z[i])\n",
    "  p.append(2 * min(f_z, 1 - f_z))\n",
    "\n",
    "mean_z = np.mean(z)\n",
    "d_z = np.var(z)\n",
    "std_z = np.std(z)\n",
    "\n",
    "mean_p = np.mean(p)\n",
    "d_p = np.var(p)\n",
    "std_p = np.std(p)\n",
    "\n",
    "print(\"mean_z = %.3f; d_z = %.3f; std_z = %.3f\" % (mean_z, d_z, std_z))\n",
    "print(\"mean_p = %.3f; d_p = %.3f; std_p = %.3f\" % (mean_p, d_p, std_p))\n"
   ]
  },
  {
   "cell_type": "code",
   "execution_count": 15,
   "id": "9a007567",
   "metadata": {},
   "outputs": [
    {
     "data": {
      "image/png": "[encoded data removed]",
      "text/plain": [
       "<Figure size 432x288 with 1 Axes>"
      ]
     },
     "metadata": {
      "needs_background": "light"
     },
     "output_type": "display_data"
    }
   ],
   "source": [
    "x = np.linspace(-3, 3, 100)\n",
    "norm_rv = stats.norm(loc=0, scale=1)\n",
    "pdf = norm_rv.pdf(x)\n",
    "\n",
    "plt.plot(x, pdf, lw=3)\n",
    "\n",
    "plt.hist(np.array(z), bins=30, density=True);\n",
    "\n",
    "plt.ylabel('$f(z|H0)$')\n",
    "plt.xlabel('$z$');"
   ]
  },
  {
   "cell_type": "code",
   "execution_count": 16,
   "id": "9d4469d5",
   "metadata": {},
   "outputs": [
    {
     "data": {
      "image/png": "[encoded data removed]",
      "text/plain": [
       "<Figure size 432x288 with 1 Axes>"
      ]
     },
     "metadata": {
      "needs_background": "light"
     },
     "output_type": "display_data"
    }
   ],
   "source": [
    "x = np.linspace(-0.5, 1.5, 100)\n",
    "uniform_rv = stats.uniform(loc=0, scale=1)\n",
    "pdf = uniform_rv.pdf(x)\n",
    "\n",
    "plt.plot(x, pdf, lw=3)\n",
    "\n",
    "plt.hist(np.array(p), bins=30, density=True);\n",
    "\n",
    "plt.ylabel('$f(z|H0)$')\n",
    "plt.xlabel('$z$');"
   ]
  },
  {
   "cell_type": "code",
   "execution_count": null,
   "id": "fe682cbb",
   "metadata": {},
   "outputs": [],
   "source": []
  }
 ],
 "metadata": {
  "kernelspec": {
   "display_name": "Python 3 (ipykernel)",
   "language": "python",
   "name": "python3"
  },
  "language_info": {
   "codemirror_mode": {
    "name": "ipython",
    "version": 3
   },
   "file_extension": ".py",
   "mimetype": "text/x-python",
   "name": "python",
   "nbconvert_exporter": "python",
   "pygments_lexer": "ipython3",
   "version": "3.7.10"
  }
 },
 "nbformat": 4,
 "nbformat_minor": 5
}
